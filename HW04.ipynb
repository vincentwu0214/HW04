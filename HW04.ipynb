{
 "cells": [
  {
   "cell_type": "code",
   "execution_count": 5,
   "metadata": {},
   "outputs": [
    {
     "name": "stdout",
     "output_type": "stream",
     "text": [
      "1 * 1 = 1 \n",
      "2 * 1 = 1 2 * 2 = 4 \n",
      "3 * 1 = 1 3 * 2 = 4 3 * 3 = 9 \n",
      "4 * 1 = 1 4 * 2 = 4 4 * 3 = 9 4 * 4 = 16 \n",
      "5 * 1 = 1 5 * 2 = 4 5 * 3 = 9 5 * 4 = 16 5 * 5 = 25 \n",
      "6 * 1 = 1 6 * 2 = 4 6 * 3 = 9 6 * 4 = 16 6 * 5 = 25 6 * 6 = 36 \n",
      "7 * 1 = 1 7 * 2 = 4 7 * 3 = 9 7 * 4 = 16 7 * 5 = 25 7 * 6 = 36 7 * 7 = 49 \n",
      "8 * 1 = 1 8 * 2 = 4 8 * 3 = 9 8 * 4 = 16 8 * 5 = 25 8 * 6 = 36 8 * 7 = 49 8 * 8 = 64 \n",
      "9 * 1 = 1 9 * 2 = 4 9 * 3 = 9 9 * 4 = 16 9 * 5 = 25 9 * 6 = 36 9 * 7 = 49 9 * 8 = 64 9 * 9 = 81 \n"
     ]
    }
   ],
   "source": [
    "for i in range(1,10):\n",
    "    for j in range(1,i+1):\n",
    "        print('{} * {} = {} '.format(i,j,j*j),end='')\n",
    "    print(\"\")"
   ]
  },
  {
   "cell_type": "code",
   "execution_count": 16,
   "metadata": {},
   "outputs": [
    {
     "name": "stdout",
     "output_type": "stream",
     "text": [
      "\t\t\t\t\tPyramid of Numbers\n",
      "        * \n",
      "       * * \n",
      "      * * * \n",
      "     * * * * \n",
      "    * * * * * \n",
      "   * * * * * * \n",
      "  * * * * * * * \n",
      " * * * * * * * * \n",
      "* * * * * * * * * \n"
     ]
    }
   ],
   "source": [
    "def pyramid(n):\n",
    "    pass\n",
    "print(\"\\t\\t\\t\\t\\tPyramid of Numbers\")\n",
    "\n",
    "for i in range(1,10):\n",
    "    for j in range(10-i-1):\n",
    "        print(end=\" \")\n",
    "    for j in range(0,i):\n",
    "        print(\"*\",end=\" \")\n",
    "    print()    \n",
    "pyramid(10)"
   ]
  },
  {
   "cell_type": "code",
   "execution_count": 24,
   "metadata": {},
   "outputs": [
    {
     "ename": "SyntaxError",
     "evalue": "invalid syntax (<ipython-input-24-58621e88db79>, line 3)",
     "output_type": "error",
     "traceback": [
      "\u001b[1;36m  File \u001b[1;32m\"<ipython-input-24-58621e88db79>\"\u001b[1;36m, line \u001b[1;32m3\u001b[0m\n\u001b[1;33m    print HW04.multiplication_table(1, 3)\u001b[0m\n\u001b[1;37m             ^\u001b[0m\n\u001b[1;31mSyntaxError\u001b[0m\u001b[1;31m:\u001b[0m invalid syntax\n"
     ]
    }
   ],
   "source": [
    "import HW04\n",
    "print('#import HW04')\n",
    "print HW04.multiplication_table(1, 3)\n",
    "print HW04.multiplication_table(4, 6)\n",
    "print HW04.multiplication_table(7, 9)\n",
    "print HW04.multiplication_table(2, 5)\n",
    "print HW04.multiplication_table(6, 9)\n",
    "print HW04.pyramid(5)"
   ]
  },
  {
   "cell_type": "code",
   "execution_count": null,
   "metadata": {
    "collapsed": true
   },
   "outputs": [],
   "source": [
    "HW04.multiplication_table(1, 3)\n",
    "HW04.multiplication_table(4, 6)\n",
    "HW04.multiplication_table(7, 9)"
   ]
  },
  {
   "cell_type": "code",
   "execution_count": null,
   "metadata": {
    "collapsed": true
   },
   "outputs": [],
   "source": [
    "HW04.multiplication_table(2, 5)\n",
    "HW04.multiplication_table(6, 9)"
   ]
  },
  {
   "cell_type": "code",
   "execution_count": null,
   "metadata": {
    "collapsed": true
   },
   "outputs": [],
   "source": [
    "HW04.pyramid(5)"
   ]
  }
 ],
 "metadata": {
  "kernelspec": {
   "display_name": "Python 3",
   "language": "python",
   "name": "python3"
  },
  "language_info": {
   "codemirror_mode": {
    "name": "ipython",
    "version": 3
   },
   "file_extension": ".py",
   "mimetype": "text/x-python",
   "name": "python",
   "nbconvert_exporter": "python",
   "pygments_lexer": "ipython3",
   "version": "3.6.3"
  }
 },
 "nbformat": 4,
 "nbformat_minor": 2
}
